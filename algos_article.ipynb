{
 "cells": [
  {
   "cell_type": "code",
   "execution_count": 2,
   "metadata": {
    "collapsed": true
   },
   "outputs": [],
   "source": [
    "import networkx as nx\n",
    "import matplotlib.pyplot as plt\n",
    "import numpy as np\n",
    "import scipy\n",
    "import timeit\n",
    "import itertools as it\n",
    "%matplotlib inline"
   ]
  },
  {
   "cell_type": "raw",
   "metadata": {},
   "source": [
    "Algo A  : faire avec juste 2. 1 plot par bdd + modularité normalisée\n",
    "Algo B  : nombre de communauté libre.\n",
    "Algo C  : subdivision. avec Delta Q. nombre de communauté retenue."
   ]
  },
  {
   "cell_type": "code",
   "execution_count": 2,
   "metadata": {
    "collapsed": true
   },
   "outputs": [],
   "source": [
    "def algoB(B) :\n",
    "\n",
    "    allval, allvect = scipy.linalg.eigh(B)\n",
    "    valpos          = allval[allval>0]\n",
    "    vectpos         = allvect[:, allval>0]\n",
    "    S               = np.fliplr(np.array(vectpos>0, dtype=int)) ###fliplr permet d'organiser les vecteur propres du \"grand\" au plus \"petit\"\n",
    "    pos_one         = (S[:,0]==1) #vecteur de positions des uns\n",
    "\n",
    "    for i in range(1, len(valpos)):\n",
    "        S[pos_one,i] = np.zeros(np.sum(pos_one>0)) #met des 0 aux positions où dans la colonne d'avant il y avait des uns.\n",
    "        pos_one      = pos_one + (S[:,i]==1) #actualise le vecteur de positions des uns avec les uns de la colonne en cours\n",
    "        if (np.sum(pos_one) >= n) :\n",
    "            maxgroup = i+1\n",
    "            break\n",
    "    S_opt = S[:, :(maxgroup)]\n",
    "    Q = np.trace(np.dot(np.dot(S_opt.transpose(),B),S_opt))/(2*m)\n",
    "    return(dict(S_opt=S_opt, Q=Q, nb_group= maxgroup))"
   ]
  },
  {
   "cell_type": "code",
   "execution_count": 3,
   "metadata": {
    "collapsed": true
   },
   "outputs": [],
   "source": [
    "def algoC(c=2, p=2):\n",
    "    allval, allvect = scipy.linalg.eigh(B)\n",
    "    val_p, vect_p = scipy.linalg.eigh(B, eigvals=(len(B)-p, len(B)-1))\n",
    "    alpha         = (1/(n-p))*np.sum(allval[:(len(allval)-p)])\n",
    "    Z             = np.tile(np.sqrt(val_p-alpha),n).reshape(p, n)\n",
    "    r_mat         = Z*vect_p.transpose()\n",
    "\n",
    "    #On test tous le monde à chaque fois\n",
    "    count = 0\n",
    "    x     = np.zeros(n,dtype=int)\n",
    "    #vecteur permettant d'ajouter ou de retirer des sommets\n",
    "    add   = np.zeros(n, dtype=int)  \n",
    "    drop  = np.zeros(n, dtype=int)\n",
    "    \n",
    "    #Initialisation de R_1, on met l'individu 1 par défaut\n",
    "    x[0]  =1\n",
    "    R     = r_mat[:,0]\n",
    "    while count < n:\n",
    "        count=0\n",
    "        for i in range(0,n):\n",
    "            if np.dot(R, r_mat[:, i])>0:\n",
    "                if x[i]!=1 :\n",
    "                    add[i] = 1\n",
    "                    x[i]   = 1\n",
    "                else:\n",
    "                    count = count+1\n",
    "            else:\n",
    "\n",
    "                if x[i]==1 :\n",
    "                    drop[i] = 1\n",
    "                    x[i] = 0\n",
    "                else:\n",
    "                    count = count+1\n",
    "    R= R+ r_mat[:,add].sum(axis=1) - r_mat[:,drop].sum(axis=1)    \n",
    "    S      = np.zeros(n*2, dtype=int).reshape(n,2)\n",
    "    S[:,0] = x\n",
    "    S[:,1] = 1-x\n",
    "    Q= np.trace(np.dot(np.dot(S.transpose(),B),S))/(2*m)\n",
    "    return(dict(S=S, Q=Q))"
   ]
  },
  {
   "cell_type": "code",
   "execution_count": 584,
   "metadata": {
    "collapsed": false
   },
   "outputs": [],
   "source": [
    "def subdivision2(x, B, xold, c=2, p=2):\n",
    "    #initialisation des valeurs\n",
    "    ng                = np.sum(x)\n",
    "\n",
    "    #Calculs des termes diagonaux\n",
    "    B_crop            = B[x==1,:][:,x==1]\n",
    "    Bsum              = B_crop.sum(axis=1)\n",
    "    B_g               = B_crop - np.diag(np.fromiter(iter(Bsum),dtype=float)) \n",
    "    \n",
    "    #Diagonalisation de la matrice B_{ij}^G\n",
    "    val_p_g, vect_p_g = scipy.linalg.eigh(B_g, eigvals=(len(B_g)-p,len(B_g)-1))\n",
    "    \n",
    "    #Calcul du alpha optimal\n",
    "    allval, allvect   = scipy.linalg.eigh(B_g)\n",
    "    alpha_g           = (1/(ng-p))*np.sum(allval[:(len(allval)-p)])\n",
    "    \n",
    "    #Calcul de la matrice des r_i\n",
    "    Z_g               = np.tile(np.sqrt(val_p_g-alpha_g),ng).reshape(p,ng)\n",
    "    r_mat_g           = Z_g*vect_p_g.transpose()\n",
    "    \n",
    "    #Algorithme\n",
    "    count   = 0\n",
    "    xg      = np.zeros(ng,dtype=int)\n",
    "    xg[0]   = 1\n",
    "    R_g     = r_mat_g[:,0]\n",
    "    #vecteur permettant d'ajouter ou de retirer des sommets\n",
    "    add   = np.zeros(n, dtype=int)  \n",
    "    drop  = np.zeros(n, dtype=int)\n",
    "    while count < ng:\n",
    "        count = 0\n",
    "        for i in range(0,ng):\n",
    "            \n",
    "            if np.dot(R_g, r_mat_g[:, i])>0:\n",
    "                if (xg[i] != 1) :\n",
    "                    add[i] = 1\n",
    "                    xg[i]  = 1\n",
    "                else:\n",
    "                    count = count+1\n",
    "            else:\n",
    "            \n",
    "                if (xg[i] ==1 ) :\n",
    "                    drop[i] = 1\n",
    "                    xg[i]   = 0\n",
    "                else:\n",
    "                    count = count+1\n",
    "    R_g= R_g+ r_mat_g[:,add].sum(axis=1) - r_mat_g[:,drop].sum(axis=1) \n",
    "    \n",
    "    #Stockages des valeurs dans une matrice S\n",
    "    Sg       = np.zeros(ng*c, dtype=int).reshape(ng,c)\n",
    "    Sg[:,0]  = xg\n",
    "    Sg[:,1]  = 1-xg\n",
    "    \n",
    "    S = np.zeros(n*2,dtype=int).reshape(n,2)\n",
    "    S[xold ==1,0]  = xg\n",
    "    S[xold ==1,1]  = 1-xg\n",
    "\n",
    "    \n",
    "    #Calcul de la différence de modularité\n",
    "    Delta_Q  = np.trace(np.dot(np.dot(Sg.transpose(), B_g), Sg))/(2*m)\n",
    "    \n",
    "    return(dict(Sg1=Sg[:,0], Sg2=Sg[:,1], Bg= B_g, dQ= Delta_Q, S1=S[:,0], S2=S[:,1]))"
   ]
  },
  {
   "cell_type": "code",
   "execution_count": 4,
   "metadata": {
    "collapsed": false
   },
   "outputs": [],
   "source": [
    "#G  = nx.read_edgelist(\"facebook.txt\", create_using = nx.Graph(), nodetype = int)\n",
    "#G   = nx.read_gml('karate.gml')\n",
    "G   = nx.read_gml('lesmis.gml')\n",
    "m   = G.number_of_edges()\n",
    "n   = len(G)\n",
    "A   = nx.adjacency_matrix(G)\n",
    "deg = G.degree()\n",
    "k   = np.fromiter(iter(deg.values()), dtype=int)\n",
    "P   = np.outer(k,k)/(2*m)\n",
    "B   = A-P"
   ]
  },
  {
   "cell_type": "markdown",
   "metadata": {},
   "source": [
    "### ALGO A"
   ]
  },
  {
   "cell_type": "code",
   "execution_count": 302,
   "metadata": {
    "collapsed": true
   },
   "outputs": [],
   "source": [
    "# Leading eigenvector algorithm\n",
    "val, vect = scipy.linalg.eigh(B, eigvals=(len(B)-1,len(B)-1))\n",
    "valuesA         = np.array(vect.flatten()>0,dtype=int) -1*np.array(vect.flatten()<=0,dtype=int)"
   ]
  },
  {
   "cell_type": "code",
   "execution_count": 303,
   "metadata": {
    "collapsed": false
   },
   "outputs": [
    {
     "data": {
      "text/plain": [
       "matrix([[ 0.36108097]])"
      ]
     },
     "execution_count": 303,
     "metadata": {},
     "output_type": "execute_result"
    }
   ],
   "source": [
    "(1/(4*m))*np.dot(np.dot(valuesA,B),valuesA)"
   ]
  },
  {
   "cell_type": "markdown",
   "metadata": {},
   "source": [
    "### ALGO B "
   ]
  },
  {
   "cell_type": "code",
   "execution_count": 304,
   "metadata": {
    "collapsed": true
   },
   "outputs": [],
   "source": [
    "val_algoB= algoB(B)"
   ]
  },
  {
   "cell_type": "code",
   "execution_count": 305,
   "metadata": {
    "collapsed": false
   },
   "outputs": [
    {
     "data": {
      "text/plain": [
       "0.51364777729555466"
      ]
     },
     "execution_count": 305,
     "metadata": {},
     "output_type": "execute_result"
    }
   ],
   "source": [
    "val_algoB[\"Q\"]"
   ]
  },
  {
   "cell_type": "code",
   "execution_count": 249,
   "metadata": {
    "collapsed": false
   },
   "outputs": [],
   "source": [
    "valuesB = np.zeros(n)\n",
    "for i in range(val_algoB['S_opt'].shape[1]):\n",
    "    valuesB = valuesB + (i+1)*val_algoB['S_opt'][:,i]"
   ]
  },
  {
   "cell_type": "markdown",
   "metadata": {},
   "source": [
    "### ALGO C"
   ]
  },
  {
   "cell_type": "code",
   "execution_count": 463,
   "metadata": {
    "collapsed": false
   },
   "outputs": [],
   "source": [
    "output_algoC = algoC()"
   ]
  },
  {
   "cell_type": "code",
   "execution_count": 585,
   "metadata": {
    "collapsed": false
   },
   "outputs": [],
   "source": [
    "x0 = np.ones(n,dtype=int)\n",
    "x1 = subdivision2(x0,B,xold=x0)"
   ]
  },
  {
   "cell_type": "code",
   "execution_count": 586,
   "metadata": {
    "collapsed": false
   },
   "outputs": [
    {
     "data": {
      "text/plain": [
       "0.36108097216194424"
      ]
     },
     "execution_count": 586,
     "metadata": {},
     "output_type": "execute_result"
    }
   ],
   "source": [
    "x1[\"dQ\"]"
   ]
  },
  {
   "cell_type": "code",
   "execution_count": 590,
   "metadata": {
    "collapsed": true
   },
   "outputs": [],
   "source": [
    "sub11 = subdivision2(x1[\"Sg1\"],x1[\"Bg\"],xold=x1[\"S1\"])\n",
    "sub12 = subdivision2(x1[\"Sg2\"],x1[\"Bg\"],xold=x1[\"S2\"])"
   ]
  },
  {
   "cell_type": "code",
   "execution_count": 591,
   "metadata": {
    "collapsed": false
   },
   "outputs": [
    {
     "name": "stdout",
     "output_type": "stream",
     "text": [
      "0.119334738669 -0.0144305288611\n"
     ]
    }
   ],
   "source": [
    "print(sub11[\"dQ\"], sub12[\"dQ\"])"
   ]
  },
  {
   "cell_type": "code",
   "execution_count": 592,
   "metadata": {
    "collapsed": false
   },
   "outputs": [],
   "source": [
    "sub111 = subdivision2(sub11[\"Sg1\"],sub11[\"Bg\"],xold=sub11[\"S1\"])\n",
    "sub112 = subdivision2(sub11[\"Sg2\"],sub11[\"Bg\"],xold=sub11[\"S2\"])"
   ]
  },
  {
   "cell_type": "code",
   "execution_count": 593,
   "metadata": {
    "collapsed": false
   },
   "outputs": [
    {
     "name": "stdout",
     "output_type": "stream",
     "text": [
      "0.00826151652303 0.0461590923182\n"
     ]
    }
   ],
   "source": [
    "print(sub111[\"dQ\"],sub112[\"dQ\"])"
   ]
  },
  {
   "cell_type": "code",
   "execution_count": 5,
   "metadata": {
    "collapsed": false
   },
   "outputs": [],
   "source": [
    "Sopt = np.zeros(n*100).reshape(n,100)"
   ]
  },
  {
   "cell_type": "code",
   "execution_count": 6,
   "metadata": {
    "collapsed": false
   },
   "outputs": [
    {
     "ename": "NameError",
     "evalue": "name 'x1' is not defined",
     "output_type": "error",
     "traceback": [
      "\u001b[1;31m---------------------------------------------------------------------------\u001b[0m",
      "\u001b[1;31mNameError\u001b[0m                                 Traceback (most recent call last)",
      "\u001b[1;32m<ipython-input-6-8f481c384f54>\u001b[0m in \u001b[0;36m<module>\u001b[1;34m()\u001b[0m\n\u001b[1;32m----> 1\u001b[1;33m \u001b[0mSopt\u001b[0m\u001b[1;33m[\u001b[0m\u001b[1;33m:\u001b[0m\u001b[1;33m,\u001b[0m\u001b[1;36m0\u001b[0m\u001b[1;33m]\u001b[0m\u001b[1;33m=\u001b[0m \u001b[0mx1\u001b[0m\u001b[1;33m[\u001b[0m\u001b[1;34m\"S2\"\u001b[0m\u001b[1;33m]\u001b[0m\u001b[1;33m\u001b[0m\u001b[0m\n\u001b[0m\u001b[0;32m      2\u001b[0m \u001b[0mSopt\u001b[0m\u001b[1;33m[\u001b[0m\u001b[1;33m:\u001b[0m\u001b[1;33m,\u001b[0m\u001b[1;36m1\u001b[0m\u001b[1;33m]\u001b[0m\u001b[1;33m=\u001b[0m \u001b[0msub111\u001b[0m\u001b[1;33m[\u001b[0m\u001b[1;34m\"S1\"\u001b[0m\u001b[1;33m]\u001b[0m\u001b[1;33m\u001b[0m\u001b[0m\n\u001b[0;32m      3\u001b[0m \u001b[0mSopt\u001b[0m\u001b[1;33m[\u001b[0m\u001b[1;33m:\u001b[0m\u001b[1;33m,\u001b[0m\u001b[1;36m2\u001b[0m\u001b[1;33m]\u001b[0m\u001b[1;33m=\u001b[0m \u001b[0msub111\u001b[0m\u001b[1;33m[\u001b[0m\u001b[1;34m\"S2\"\u001b[0m\u001b[1;33m]\u001b[0m\u001b[1;33m\u001b[0m\u001b[0m\n\u001b[0;32m      4\u001b[0m \u001b[0mSopt\u001b[0m\u001b[1;33m[\u001b[0m\u001b[1;33m:\u001b[0m\u001b[1;33m,\u001b[0m\u001b[1;36m3\u001b[0m\u001b[1;33m]\u001b[0m\u001b[1;33m=\u001b[0m \u001b[0msub112\u001b[0m\u001b[1;33m[\u001b[0m\u001b[1;34m\"S1\"\u001b[0m\u001b[1;33m]\u001b[0m\u001b[1;33m\u001b[0m\u001b[0m\n\u001b[0;32m      5\u001b[0m \u001b[0mSopt\u001b[0m\u001b[1;33m[\u001b[0m\u001b[1;33m:\u001b[0m\u001b[1;33m,\u001b[0m\u001b[1;36m4\u001b[0m\u001b[1;33m]\u001b[0m\u001b[1;33m=\u001b[0m \u001b[0msub112\u001b[0m\u001b[1;33m[\u001b[0m\u001b[1;34m\"S2\"\u001b[0m\u001b[1;33m]\u001b[0m\u001b[1;33m\u001b[0m\u001b[0m\n",
      "\u001b[1;31mNameError\u001b[0m: name 'x1' is not defined"
     ]
    }
   ],
   "source": [
    "Sopt[:,0]= x1[\"S2\"]\n",
    "Sopt[:,1]= sub111[\"S1\"]\n",
    "Sopt[:,2]= sub111[\"S2\"]\n",
    "Sopt[:,3]= sub112[\"S1\"]\n",
    "Sopt[:,4]= sub112[\"S2\"]"
   ]
  },
  {
   "cell_type": "code",
   "execution_count": 595,
   "metadata": {
    "collapsed": false
   },
   "outputs": [
    {
     "data": {
      "text/plain": [
       "0.53483631967263934"
      ]
     },
     "execution_count": 595,
     "metadata": {},
     "output_type": "execute_result"
    }
   ],
   "source": [
    "np.trace(np.dot(np.dot(Sopt.transpose(),B),Sopt))/(2*m)"
   ]
  },
  {
   "cell_type": "code",
   "execution_count": 438,
   "metadata": {
    "collapsed": false
   },
   "outputs": [],
   "source": [
    "valuesC = np.zeros(n)\n",
    "for i in range(Sopt.shape[1]):\n",
    "    valuesC = valuesC + (i+1)*Sopt[:,i]"
   ]
  },
  {
   "cell_type": "markdown",
   "metadata": {},
   "source": [
    "### Représentation du graphe"
   ]
  },
  {
   "cell_type": "code",
   "execution_count": 439,
   "metadata": {
    "collapsed": false
   },
   "outputs": [
    {
     "name": "stdout",
     "output_type": "stream",
     "text": [
      "Name: \n",
      "Type: Graph\n",
      "Number of nodes: 4039\n",
      "Number of edges: 88234\n",
      "Average degree:  43.6910\n"
     ]
    },
    {
     "data": {
      "image/png": "[encoded data removed]",
      "text/plain": [
       "<matplotlib.figure.Figure at 0xa80c39cc>"
      ]
     },
     "metadata": {},
     "output_type": "display_data"
    }
   ],
   "source": [
    "print(nx.info(G))\n",
    "\n",
    "#Create network layout for visualizations\n",
    "spring_pos = nx.spring_layout(G)\n",
    "\n",
    "#plt.axis(\"off\")\n",
    "#nx.draw_networkx(G, pos = spring_pos, with_labels = False, node_size = 20)\n",
    "\n",
    "###\n",
    "plt.axis(\"off\")\n",
    "nx.draw_networkx(G, pos = spring_pos,  node_color = valuesC, \n",
    "                 font_size=20,node_size = 20, with_labels = False, cmap=plt.cm.Set1)\n",
    "\n"
   ]
  }
 ],
 "metadata": {
  "kernelspec": {
   "display_name": "Python 3",
   "language": "python",
   "name": "python3"
  },
  "language_info": {
   "codemirror_mode": {
    "name": "ipython",
    "version": 3
   },
   "file_extension": ".py",
   "mimetype": "text/x-python",
   "name": "python",
   "nbconvert_exporter": "python",
   "pygments_lexer": "ipython3",
   "version": "3.5.1"
  }
 },
 "nbformat": 4,
 "nbformat_minor": 0
}
